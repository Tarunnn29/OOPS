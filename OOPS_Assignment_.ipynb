{
  "nbformat": 4,
  "nbformat_minor": 0,
  "metadata": {
    "colab": {
      "provenance": []
    },
    "kernelspec": {
      "name": "python3",
      "display_name": "Python 3"
    },
    "language_info": {
      "name": "python"
    }
  },
  "cells": [
    {
      "cell_type": "markdown",
      "source": [
        "***OOPS***"
      ],
      "metadata": {
        "id": "F729M-14-yxl"
      }
    },
    {
      "cell_type": "markdown",
      "source": [
        "**Question 1:** What is Object-Oriented Programming (OOP)?\n",
        "\n",
        "**Answer:**  OOP is a programming style that organizes code by bundling related data and behavior into objects based on real-world concepts."
      ],
      "metadata": {
        "id": "35Z7dRDN-2Eh"
      }
    },
    {
      "cell_type": "markdown",
      "source": [
        "**Question 2:**   What is a class in OOP?\n",
        "\n",
        "**Answer:**  Class is a blueprint that defines the structure (attributes and methods) for creating objects"
      ],
      "metadata": {
        "id": "YbpTKEL4-8nr"
      }
    },
    {
      "cell_type": "markdown",
      "source": [
        "**Question 3:**   What is an object in OOP?\n",
        "\n",
        "**Answer:**  Object is an instance of a class that holds actual data and can perform behaviors defined by its class ."
      ],
      "metadata": {
        "id": "iswg6NAV_Rx0"
      }
    },
    {
      "cell_type": "markdown",
      "source": [
        "**Question 4:**  What is the difference between abstraction and encapsulation?\n",
        "\n",
        "**Answer:**  Abstraction hides complex implementation details while encapsulation groups data and methods and restricts direct access to internals."
      ],
      "metadata": {
        "id": "HHlNJkJf_i_S"
      }
    },
    {
      "cell_type": "markdown",
      "source": [
        "**Question 5:**  What are dunder methods in Python?\n",
        "\n",
        "**Answer:**  Dunder methods are Python’s special “double-underscore” methods like __init__, __add__, etc., used to customize built‑in behavior."
      ],
      "metadata": {
        "id": "_CcVGTvd_vSL"
      }
    },
    {
      "cell_type": "markdown",
      "source": [
        "**Question 6:**   Explain the concept of inheritance in OOPS?\n",
        "\n",
        "**Answer:**  Inheritance lets a class (child) inherit properties and methods from another class (parent), enabling code reuse."
      ],
      "metadata": {
        "id": "4Y0-32Kc_67R"
      }
    },
    {
      "cell_type": "markdown",
      "source": [
        "**Question 7:** What is polymorphism in OOP?\n",
        "\n",
        "**Answer:** Polymorphism means objects of different classes can be used interchangeably through a common interface or method name."
      ],
      "metadata": {
        "id": "u6wSzKEHAIui"
      }
    },
    {
      "cell_type": "markdown",
      "source": [
        "**Question 8:**  How is encapsulation achieved in Python?\n",
        "\n",
        "**Answer:** Encapsulation in Python is done by defining public, protected (_name), or private (__name) attributes and accessing them via methods."
      ],
      "metadata": {
        "id": "u_hcFPZTATsD"
      }
    },
    {
      "cell_type": "markdown",
      "source": [
        "**Question 9:**  What is a constructor in Python?\n",
        "\n",
        "**Answer:**  Constructor is the __init__ method in Python, automatically called to initialize a new object’s state ."
      ],
      "metadata": {
        "id": "KKgNXIqqAhHM"
      }
    },
    {
      "cell_type": "markdown",
      "source": [
        "**Question 10:**  What are class and static methods in Python?\n",
        "\n",
        "**Answer:**  Class methods (with @classmethod) take the class as the first argument and @staticmethod methods don’t take self or cls"
      ],
      "metadata": {
        "id": "uPOS7p_UA5js"
      }
    },
    {
      "cell_type": "markdown",
      "source": [
        "**Question 11:**  What is method overloading in Python?\n",
        "\n",
        "**Answer:**  Method overloading (a single method name with different parameters) isn’t natively supported in Python, but you can mimic it with default args or *args/**kwargs."
      ],
      "metadata": {
        "id": "1IOhGvRbCyt0"
      }
    },
    {
      "cell_type": "markdown",
      "source": [
        "**Question 12:**   What is method overriding in OOP?\n",
        "\n",
        "**Answer:**  Method overriding is when a subclass defines a method with the same name as in its parent, replacing the parent’s version ."
      ],
      "metadata": {
        "id": "Wmj718FyDEMW"
      }
    },
    {
      "cell_type": "markdown",
      "source": [
        "**Question 13:** What is a property decorator in Python?\n",
        "\n",
        "**Answer:**  @property decorator lets you define a method that you can access like an attribute, useful for getters and computed values."
      ],
      "metadata": {
        "id": "74rNcjiZDSi3"
      }
    },
    {
      "cell_type": "markdown",
      "source": [
        "**Question 14:** Why is polymorphism important in OOP?\n",
        "\n",
        "**Answer:**  Polymorphism is important because it allows writing flexible code that works with different object types through common interfaces, improving maintainability and reuse."
      ],
      "metadata": {
        "id": "LKaL0TyfDdgd"
      }
    },
    {
      "cell_type": "markdown",
      "source": [
        "**Question 15:** What is an abstract class in Python?\n",
        "\n",
        "**Answer:**  Abstract class is a class using the abc module with @abstractmethod (or abstract @property) that can’t be instantiated until subclasses implement required methods.\n"
      ],
      "metadata": {
        "id": "4h7BL5YBDy_r"
      }
    },
    {
      "cell_type": "markdown",
      "source": [
        "**Question 16:** What are the advantages of OOP?\n",
        "\n",
        "**Answer:**  \n",
        "\n",
        "1. **Modularity:** Break programs into classes that encapsulate data and behavior.\n",
        "\n",
        "2. **Reusability:** Use inheritance to reuse code, avoiding duplication.\n",
        "\n",
        "3. **Maintainability:** Easier to fix or update parts of the code thanks to .encapsulation.\n",
        "\n",
        "4. **Scalability:** Classes/objects make large projects more manageable."
      ],
      "metadata": {
        "id": "P2d10H17zjTV"
      }
    },
    {
      "cell_type": "markdown",
      "source": [
        "**Question 17:**  What is the difference between a class variable and an instance variable?\n",
        "\n",
        "**Answer:**\n",
        "\n",
        " **Class variable:** Defined in the class body; shared across all instances.\n",
        "\n",
        "**Instance variable:** Defined in methods (like __init__); unique to each object."
      ],
      "metadata": {
        "id": "Singm6-Q1H2t"
      }
    },
    {
      "cell_type": "markdown",
      "source": [
        "**Question 18:** What is multiple inheritance in Python?\n",
        "\n",
        "**Answer:**  Multiple inheritance happens when a class inherits from two or more parent classes. The subclass gains attributes and methods from all parents. Python uses Method Resolution Order (MRO) to decide which method to call if multiple parents define the same one."
      ],
      "metadata": {
        "id": "FrxMOVPX1ZX3"
      }
    },
    {
      "cell_type": "markdown",
      "source": [
        "**Question 19:**   Explain the purpose of __str__ and __repr__ methods in Python.\n",
        "\n",
        "**Answer:**\n",
        "\n",
        "***__repr__:*** Official, unambiguous representation meant for developers/debugging—ideally valid Python code.\n",
        "\n",
        "\n",
        "***__str__:***  Informal, user-friendly string shown by print() or str().\n",
        "\n"
      ],
      "metadata": {
        "id": "TwMLwSoJ1kw6"
      }
    },
    {
      "cell_type": "markdown",
      "source": [
        "**Question 20:**  What is the significance of the super() function in Python?\n",
        "\n",
        "**Answer:** super() lets a subclass call methods from its parent class without hardcoding the parent name. It’s most often used in __init__ to ensure the base class initializes properly."
      ],
      "metadata": {
        "id": "yD-qfvkR2Hh0"
      }
    },
    {
      "cell_type": "markdown",
      "source": [
        "**Question 21:** What is the significance of the __del__ method in Python?\n",
        "\n",
        "**Answer:** __del__ is a destructor: it’s called when an object is about to be garbage-collected (no more references). Usually used to free non-memory resources (like files or network connections)."
      ],
      "metadata": {
        "id": "tFQHF_6F2s4g"
      }
    },
    {
      "cell_type": "markdown",
      "source": [
        "**Question 22:** What is the difference between @staticmethod and @classmethod in Python?\n",
        "\n",
        "**Answer:**\n",
        "\n",
        "***@staticmethod***\n",
        "\n",
        "1. Defined inside a class but behaves like a regular function.\n",
        "\n",
        "2. Does not receive any special first argument (self or cls).\n",
        "\n",
        "3. Cannot access or modify class-level data.\n",
        "\n",
        "4. Used for utility/helper functions logically tied to the class.\n",
        "\n",
        "\n",
        "***@classmethod***\n",
        "\n",
        "1. Receives the class (cls) as its first parameter.\n",
        "\n",
        "2. Can access or modify class-level attributes (shared across all instances).\n",
        "\n",
        "3. Often used for factory methods—alternative constructors."
      ],
      "metadata": {
        "id": "UUs17xQW28fh"
      }
    },
    {
      "cell_type": "markdown",
      "source": [
        "**Question 23:** How does polymorphism work in Python with inheritance?\n",
        "\n",
        "\n",
        "**Answer:**  Polymorphism lets subclasses override methods of parent classes. You can call the same method on different types and get different behaviors. Python’s dynamic typing makes this easy."
      ],
      "metadata": {
        "id": "OHSKKmqb3INx"
      }
    },
    {
      "cell_type": "markdown",
      "source": [
        "**Question 24:** What is method chaining in Python OOP?\n",
        "\n",
        "**Answer:**  Method chaining is when methods return self (or another object), enabling calls to be linked in a single statement.\n"
      ],
      "metadata": {
        "id": "MdN4m8Ms3Xsj"
      }
    },
    {
      "cell_type": "markdown",
      "source": [
        "**Question 25:** What is the purpose of the __call__ method in Python?\n",
        "\n",
        "**Answer:** efining __call__ lets object instances be callable, meaning you can “call” the instance like a function."
      ],
      "metadata": {
        "id": "F_VEDRzv3jaQ"
      }
    },
    {
      "cell_type": "markdown",
      "source": [
        "***PRACTICAL QUESTIONS***"
      ],
      "metadata": {
        "id": "KxtOUWle5Sgn"
      }
    },
    {
      "cell_type": "markdown",
      "source": [
        "**Question 1:**  Create a parent class Animal with a method speak() that prints a generic message. Create a child class Dog\n",
        "that overrides the speak() method to print \"Bark!\".\n"
      ],
      "metadata": {
        "id": "m5ks-3ft5W6N"
      }
    },
    {
      "cell_type": "code",
      "source": [
        "class Animal:\n",
        "  def speak(self):\n",
        "    return \"This animal makes a sound\"\n",
        "\n",
        "class Dog(Animal):\n",
        "  def speak(self):\n",
        "    return \"Bark!\"\n",
        "\n",
        "dog = Dog()\n",
        "print(dog.speak())"
      ],
      "metadata": {
        "colab": {
          "base_uri": "https://localhost:8080/"
        },
        "id": "tnWrUDP753gl",
        "outputId": "05de7c78-2d45-4542-9557-61092c901727"
      },
      "execution_count": null,
      "outputs": [
        {
          "output_type": "stream",
          "name": "stdout",
          "text": [
            "Bark!\n"
          ]
        }
      ]
    },
    {
      "cell_type": "code",
      "source": [
        "dog.speak()"
      ],
      "metadata": {
        "colab": {
          "base_uri": "https://localhost:8080/",
          "height": 35
        },
        "id": "Wx1j_oV86L6u",
        "outputId": "9b393703-976f-46f8-d2c6-15644b802bb6"
      },
      "execution_count": null,
      "outputs": [
        {
          "output_type": "execute_result",
          "data": {
            "text/plain": [
              "'Bark!'"
            ],
            "application/vnd.google.colaboratory.intrinsic+json": {
              "type": "string"
            }
          },
          "metadata": {},
          "execution_count": 23
        }
      ]
    },
    {
      "cell_type": "code",
      "source": [
        "animal = Animal()\n",
        "animal.speak()"
      ],
      "metadata": {
        "colab": {
          "base_uri": "https://localhost:8080/",
          "height": 35
        },
        "id": "n9__p6Kf6Pou",
        "outputId": "6434e511-1824-4976-9943-5fca6407a216"
      },
      "execution_count": null,
      "outputs": [
        {
          "output_type": "execute_result",
          "data": {
            "text/plain": [
              "'This animal makes a sound'"
            ],
            "application/vnd.google.colaboratory.intrinsic+json": {
              "type": "string"
            }
          },
          "metadata": {},
          "execution_count": 24
        }
      ]
    },
    {
      "cell_type": "markdown",
      "source": [
        "**Question 2:**  Write a program to create an abstract class Shape with a method area(). Derive classes Circle and Rectangle\n",
        "from it and implement the area() method in both.\n"
      ],
      "metadata": {
        "id": "55N9zVLW6WyH"
      }
    },
    {
      "cell_type": "code",
      "source": [
        "import abc\n",
        "import math\n",
        "class Shape():\n",
        "\n",
        "    @abc.abstractmethod\n",
        "    def area(self):\n",
        "        return \"\"\"Compute and return the area of the shape\"\"\"\n",
        "\n",
        "\n",
        "class Circle(Shape):\n",
        "    def __init__(self, radius):\n",
        "        self.radius = radius\n",
        "\n",
        "    def area(self):\n",
        "        return math.pi * self.radius ** 2\n",
        "\n",
        "class Rectangle(Shape):\n",
        "    def __init__(self, width, height):\n",
        "        self.width = width\n",
        "        self.height = height\n",
        "\n",
        "    def area(self):\n",
        "        return self.width * self.height\n",
        "a = Shape()\n",
        "b = Circle(5)\n",
        "c = Rectangle(4,5)"
      ],
      "metadata": {
        "id": "V6qz6eQ_6Vfa"
      },
      "execution_count": null,
      "outputs": []
    },
    {
      "cell_type": "code",
      "source": [
        "a.area()"
      ],
      "metadata": {
        "colab": {
          "base_uri": "https://localhost:8080/",
          "height": 35
        },
        "id": "4DZmLXQX7sBh",
        "outputId": "489deb94-d212-4daa-af58-96aed9f6ec52"
      },
      "execution_count": null,
      "outputs": [
        {
          "output_type": "execute_result",
          "data": {
            "text/plain": [
              "'Compute and return the area of the shape'"
            ],
            "application/vnd.google.colaboratory.intrinsic+json": {
              "type": "string"
            }
          },
          "metadata": {},
          "execution_count": 33
        }
      ]
    },
    {
      "cell_type": "code",
      "source": [
        "b.area()"
      ],
      "metadata": {
        "colab": {
          "base_uri": "https://localhost:8080/"
        },
        "id": "_G4KEEkd7869",
        "outputId": "ff6ad285-929b-40b1-8734-a117e65fd3f9"
      },
      "execution_count": null,
      "outputs": [
        {
          "output_type": "execute_result",
          "data": {
            "text/plain": [
              "78.53981633974483"
            ]
          },
          "metadata": {},
          "execution_count": 34
        }
      ]
    },
    {
      "cell_type": "code",
      "source": [
        "c.area()"
      ],
      "metadata": {
        "colab": {
          "base_uri": "https://localhost:8080/"
        },
        "id": "7zIXy7sa8KIe",
        "outputId": "1c28871c-2be6-439e-dd2a-7e9ea50179c3"
      },
      "execution_count": null,
      "outputs": [
        {
          "output_type": "execute_result",
          "data": {
            "text/plain": [
              "20"
            ]
          },
          "metadata": {},
          "execution_count": 35
        }
      ]
    },
    {
      "cell_type": "markdown",
      "source": [
        "**Question 3:**  Implement a multi-level inheritance scenario where a class Vehicle has an attribute type. Derive a class Car\n",
        "and further derive a class ElectricCar that adds a battery attribute."
      ],
      "metadata": {
        "id": "Ep-3IVeh8O6f"
      }
    },
    {
      "cell_type": "code",
      "source": [
        "class Vehicle:\n",
        "  def __init__(self, type):\n",
        "    self.type = type\n",
        "\n",
        "class Car(Vehicle):\n",
        "  def __init__(self, type, color):\n",
        "    self.type = type\n",
        "    self.color = color\n",
        "\n",
        "class ElectricCar(Car):\n",
        "  def __init__(self, type, color, battery):\n",
        "    self.type = type\n",
        "    self.color = color\n",
        "    self.battery = battery"
      ],
      "metadata": {
        "id": "Xuy4aWShAi8j"
      },
      "execution_count": null,
      "outputs": []
    },
    {
      "cell_type": "markdown",
      "source": [
        "**Question 4:**  Demonstrate polymorphism by creating a base class Bird with a method fly(). Create two derived classes\n",
        "Sparrow and Penguin that override the fly() method."
      ],
      "metadata": {
        "id": "gGTdRPSpmK2Y"
      }
    },
    {
      "cell_type": "code",
      "source": [
        "class Bird:\n",
        "  def fly(self):\n",
        "    return \"Birds can fly\"\n",
        "\n",
        "class Sparrow(Bird):\n",
        "  def fly(self):\n",
        "    return \"Sparrows can fly\"\n",
        "\n",
        "class Penguin(Bird):\n",
        "  def fly(self):\n",
        "    return \"Penguins can't fly\"\n",
        "\n",
        "\n",
        "def make_bird_fly(bird):\n",
        "  return bird.fly()\n",
        "\n",
        "bird = Bird()\n",
        "sparrow = Sparrow()\n",
        "penguin = Penguin()"
      ],
      "metadata": {
        "id": "GXlq19RomR8E"
      },
      "execution_count": null,
      "outputs": []
    },
    {
      "cell_type": "code",
      "source": [
        "make_bird_fly(bird)"
      ],
      "metadata": {
        "colab": {
          "base_uri": "https://localhost:8080/",
          "height": 35
        },
        "id": "TH-YhDlVm4KC",
        "outputId": "24f68344-b383-4e68-b32f-de39f9aed37a"
      },
      "execution_count": null,
      "outputs": [
        {
          "output_type": "execute_result",
          "data": {
            "text/plain": [
              "'Birds can fly'"
            ],
            "application/vnd.google.colaboratory.intrinsic+json": {
              "type": "string"
            }
          },
          "metadata": {},
          "execution_count": 3
        }
      ]
    },
    {
      "cell_type": "code",
      "source": [
        "make_bird_fly(sparrow)"
      ],
      "metadata": {
        "colab": {
          "base_uri": "https://localhost:8080/",
          "height": 35
        },
        "id": "vu8UiEk4m9MO",
        "outputId": "79b7aebb-f2c4-4b16-923c-404eefce6580"
      },
      "execution_count": null,
      "outputs": [
        {
          "output_type": "execute_result",
          "data": {
            "text/plain": [
              "'Sparrows can fly'"
            ],
            "application/vnd.google.colaboratory.intrinsic+json": {
              "type": "string"
            }
          },
          "metadata": {},
          "execution_count": 4
        }
      ]
    },
    {
      "cell_type": "code",
      "source": [
        "make_bird_fly(penguin)"
      ],
      "metadata": {
        "colab": {
          "base_uri": "https://localhost:8080/",
          "height": 35
        },
        "id": "tNvOUC95nCrZ",
        "outputId": "e119b5d7-b923-47c1-cfe9-987540b7d8d6"
      },
      "execution_count": null,
      "outputs": [
        {
          "output_type": "execute_result",
          "data": {
            "text/plain": [
              "\"Penguins can't fly\""
            ],
            "application/vnd.google.colaboratory.intrinsic+json": {
              "type": "string"
            }
          },
          "metadata": {},
          "execution_count": 5
        }
      ]
    },
    {
      "cell_type": "markdown",
      "source": [
        "**Question 5:**  Write a program to demonstrate encapsulation by creating a class BankAccount with private attributes\n",
        "balance and methods to deposit, withdraw, and check balance."
      ],
      "metadata": {
        "id": "N-CuNOItnKRY"
      }
    },
    {
      "cell_type": "code",
      "source": [
        "class BankAccount:\n",
        "  def __init__(self, balance):\n",
        "    self.__balance = balance\n",
        "\n",
        "  def deposit(self, amount):\n",
        "    self.__balance += amount\n",
        "    return self.__balance\n",
        "\n",
        "  def withdraw(self, amount):\n",
        "    self.__balance -= amount\n",
        "    return self.__balance\n",
        "\n",
        "  def check_balance(self):\n",
        "      return self.__balance"
      ],
      "metadata": {
        "id": "fPJpMRkqnUr0"
      },
      "execution_count": null,
      "outputs": []
    },
    {
      "cell_type": "code",
      "source": [
        "A = BankAccount(2500)"
      ],
      "metadata": {
        "id": "RTooQsf5n8oJ"
      },
      "execution_count": null,
      "outputs": []
    },
    {
      "cell_type": "code",
      "source": [
        "A.withdraw(525)"
      ],
      "metadata": {
        "colab": {
          "base_uri": "https://localhost:8080/"
        },
        "id": "kHAX6DvAoA0d",
        "outputId": "1337fa01-553c-4753-d2a1-ecbd883c4d9a"
      },
      "execution_count": null,
      "outputs": [
        {
          "output_type": "execute_result",
          "data": {
            "text/plain": [
              "1975"
            ]
          },
          "metadata": {},
          "execution_count": 18
        }
      ]
    },
    {
      "cell_type": "code",
      "source": [
        "A.deposit(6953)"
      ],
      "metadata": {
        "colab": {
          "base_uri": "https://localhost:8080/"
        },
        "id": "4ufp1j-soDF2",
        "outputId": "81f549cb-5554-4d86-8c88-03815eb040bb"
      },
      "execution_count": null,
      "outputs": [
        {
          "output_type": "execute_result",
          "data": {
            "text/plain": [
              "8928"
            ]
          },
          "metadata": {},
          "execution_count": 19
        }
      ]
    },
    {
      "cell_type": "code",
      "source": [
        "A.check_balance()"
      ],
      "metadata": {
        "colab": {
          "base_uri": "https://localhost:8080/"
        },
        "id": "f7h2b7o0oGIi",
        "outputId": "bbcc5626-9d45-4db3-c607-4bd04148c193"
      },
      "execution_count": null,
      "outputs": [
        {
          "output_type": "execute_result",
          "data": {
            "text/plain": [
              "8928"
            ]
          },
          "metadata": {},
          "execution_count": 20
        }
      ]
    },
    {
      "cell_type": "markdown",
      "source": [
        "**Question 6:**  Demonstrate runtime polymorphism using a method play() in a base class Instrument. Derive classes Guitar\n",
        "and Piano that implement their own version of play()."
      ],
      "metadata": {
        "id": "LbDFLaqKoXjb"
      }
    },
    {
      "cell_type": "code",
      "source": [
        "class Instrument:\n",
        "    def play(self):\n",
        "      return f\"Instrument is being played\"\n",
        "\n",
        "\n",
        "class Guitar(Instrument):\n",
        "  def play(self):\n",
        "    return \"Strumming the guitar 🎸\"\n",
        "\n",
        "\n",
        "class Piano(Instrument):\n",
        "  def play(self):\n",
        "    return \"playing a piano\"\n",
        "\n",
        "\n",
        "def make_instrument_play(instrument):\n",
        "  return instrument.play()"
      ],
      "metadata": {
        "id": "0rQMZbVSof9L"
      },
      "execution_count": null,
      "outputs": []
    },
    {
      "cell_type": "code",
      "source": [
        "Instrument = Instrument()\n",
        "Guitar = Guitar()\n",
        "Piano = Piano()"
      ],
      "metadata": {
        "id": "bi1spwtsoISZ"
      },
      "execution_count": null,
      "outputs": []
    },
    {
      "cell_type": "code",
      "source": [
        "make_instrument_play(Instrument)"
      ],
      "metadata": {
        "colab": {
          "base_uri": "https://localhost:8080/",
          "height": 35
        },
        "id": "nRy4h6Xypurk",
        "outputId": "7475083a-2149-43bf-b6bb-6083634f6112"
      },
      "execution_count": null,
      "outputs": [
        {
          "output_type": "execute_result",
          "data": {
            "text/plain": [
              "'Instrument is being played'"
            ],
            "application/vnd.google.colaboratory.intrinsic+json": {
              "type": "string"
            }
          },
          "metadata": {},
          "execution_count": 36
        }
      ]
    },
    {
      "cell_type": "code",
      "source": [
        "make_instrument_play(Guitar)"
      ],
      "metadata": {
        "colab": {
          "base_uri": "https://localhost:8080/",
          "height": 35
        },
        "id": "gvx96UkhqGK5",
        "outputId": "24359ca5-0ae5-40e0-87ec-f30de21f46d5"
      },
      "execution_count": null,
      "outputs": [
        {
          "output_type": "execute_result",
          "data": {
            "text/plain": [
              "'Strumming the guitar 🎸'"
            ],
            "application/vnd.google.colaboratory.intrinsic+json": {
              "type": "string"
            }
          },
          "metadata": {},
          "execution_count": 37
        }
      ]
    },
    {
      "cell_type": "code",
      "source": [
        "make_instrument_play(Piano)"
      ],
      "metadata": {
        "colab": {
          "base_uri": "https://localhost:8080/",
          "height": 35
        },
        "id": "WiLJq3OtqJrk",
        "outputId": "fb8f0b0b-72a1-4356-ae2b-edecc6f1a144"
      },
      "execution_count": null,
      "outputs": [
        {
          "output_type": "execute_result",
          "data": {
            "text/plain": [
              "'playing a piano'"
            ],
            "application/vnd.google.colaboratory.intrinsic+json": {
              "type": "string"
            }
          },
          "metadata": {},
          "execution_count": 38
        }
      ]
    },
    {
      "cell_type": "markdown",
      "source": [
        "**Question 7:** Create a class MathOperations with a class method add_numbers() to add two numbers and a static\n",
        "method subtract_numbers() to subtract two numbers."
      ],
      "metadata": {
        "id": "fefayX_zquLH"
      }
    },
    {
      "cell_type": "code",
      "source": [
        "class MathOperations:\n",
        "  @classmethod\n",
        "  def add_numbers(cls, a, b):\n",
        "    return a + b\n",
        "\n",
        "  @staticmethod\n",
        "  def subtract_numbers(a,b):\n",
        "    return a - b\n"
      ],
      "metadata": {
        "id": "cy_f-74yqe3r"
      },
      "execution_count": null,
      "outputs": []
    },
    {
      "cell_type": "code",
      "source": [
        "X= MathOperations.add_numbers(85,68)"
      ],
      "metadata": {
        "id": "6Jp4vgXgrgyI"
      },
      "execution_count": null,
      "outputs": []
    },
    {
      "cell_type": "code",
      "source": [
        "X"
      ],
      "metadata": {
        "colab": {
          "base_uri": "https://localhost:8080/"
        },
        "id": "smttKxZrsBN3",
        "outputId": "e1833e99-8bca-4f79-d4c2-bd425ba51095"
      },
      "execution_count": null,
      "outputs": [
        {
          "output_type": "execute_result",
          "data": {
            "text/plain": [
              "153"
            ]
          },
          "metadata": {},
          "execution_count": 44
        }
      ]
    },
    {
      "cell_type": "code",
      "source": [
        "Y = MathOperations.subtract_numbers(63, 84)"
      ],
      "metadata": {
        "id": "4dGaGybQsEo1"
      },
      "execution_count": null,
      "outputs": []
    },
    {
      "cell_type": "code",
      "source": [
        "Y"
      ],
      "metadata": {
        "colab": {
          "base_uri": "https://localhost:8080/"
        },
        "id": "2tIpodzWsJUm",
        "outputId": "82f3ce11-1f87-4c76-97c5-8efa650fc16f"
      },
      "execution_count": null,
      "outputs": [
        {
          "output_type": "execute_result",
          "data": {
            "text/plain": [
              "-21"
            ]
          },
          "metadata": {},
          "execution_count": 46
        }
      ]
    },
    {
      "cell_type": "markdown",
      "source": [
        "**Question 8:** mplement a class Person with a class method to count the total number of persons created."
      ],
      "metadata": {
        "id": "zI-k2DRUsLIg"
      }
    },
    {
      "cell_type": "code",
      "source": [
        "class Person:\n",
        "  def __init__(self, *args):\n",
        "    self.args = args\n",
        "\n",
        "  def count_persons(self):\n",
        "    return len(self.args)\n",
        "\n"
      ],
      "metadata": {
        "id": "wlP5Ur5bsJ7F"
      },
      "execution_count": null,
      "outputs": []
    },
    {
      "cell_type": "code",
      "source": [
        "M = Person(\"Naman\", \"Ravi\", \"Navya\", \"Sam\", \"Jonny\", \"Kavya\", \"Ansh\" )"
      ],
      "metadata": {
        "id": "6z7v8aMCsxVv"
      },
      "execution_count": null,
      "outputs": []
    },
    {
      "cell_type": "code",
      "source": [
        "M.count_persons()"
      ],
      "metadata": {
        "colab": {
          "base_uri": "https://localhost:8080/"
        },
        "id": "iJPIUcJ-s9no",
        "outputId": "9a1ffc14-2029-434b-eac1-18e217276f61"
      },
      "execution_count": null,
      "outputs": [
        {
          "output_type": "execute_result",
          "data": {
            "text/plain": [
              "7"
            ]
          },
          "metadata": {},
          "execution_count": 60
        }
      ]
    },
    {
      "cell_type": "markdown",
      "source": [
        "**Question 9:**  Write a class Fraction with attributes numerator and denominator. Override the str method to display the\n",
        "fraction as \"numerator/denominator\"."
      ],
      "metadata": {
        "id": "DlTy0Fh9tcK8"
      }
    },
    {
      "cell_type": "code",
      "source": [
        "class Fraction:\n",
        "  def __init__(self, numerator, denominator):\n",
        "    self.numerator = numerator\n",
        "    self.denominator = denominator\n",
        "\n",
        "  def __str__(self):\n",
        "    return f\"{self.numerator}/{self.denominator}\""
      ],
      "metadata": {
        "id": "0mgaD-aQtR9M"
      },
      "execution_count": null,
      "outputs": []
    },
    {
      "cell_type": "code",
      "source": [
        "T = Fraction(5,9)"
      ],
      "metadata": {
        "id": "h5ytMsxxt_zY"
      },
      "execution_count": null,
      "outputs": []
    },
    {
      "cell_type": "code",
      "source": [
        "T"
      ],
      "metadata": {
        "colab": {
          "base_uri": "https://localhost:8080/"
        },
        "id": "fW6xDtYAuCYd",
        "outputId": "af4f51a2-79fa-4735-e72b-9226caa59702"
      },
      "execution_count": null,
      "outputs": [
        {
          "output_type": "execute_result",
          "data": {
            "text/plain": [
              "<__main__.Fraction at 0x7d7fd3b75010>"
            ]
          },
          "metadata": {},
          "execution_count": 80
        }
      ]
    },
    {
      "cell_type": "code",
      "source": [
        "print(T)"
      ],
      "metadata": {
        "colab": {
          "base_uri": "https://localhost:8080/"
        },
        "id": "s-Cl_Yw9uDlm",
        "outputId": "ee150736-b8c3-4d5a-a9d1-3a555e7abb17"
      },
      "execution_count": null,
      "outputs": [
        {
          "output_type": "stream",
          "name": "stdout",
          "text": [
            "5/9\n"
          ]
        }
      ]
    },
    {
      "cell_type": "markdown",
      "source": [
        "**Question 10:** Demonstrate operator overloading by creating a class Vector and overriding the add method to add two\n",
        "vectors."
      ],
      "metadata": {
        "id": "o5K0uU1pu938"
      }
    },
    {
      "cell_type": "code",
      "source": [
        "class Vector:\n",
        "    def __init__(self, x, y):\n",
        "        self.x = x\n",
        "        self.y = y\n",
        "\n",
        "    def __add__(self, other):\n",
        "        return self.x + other.x, self.y + other.y\n",
        "\n",
        "    def __repr__(self):\n",
        "        return f\"Vector({self.x}, {self.y})\""
      ],
      "metadata": {
        "id": "3dQOnJVFuWIf"
      },
      "execution_count": null,
      "outputs": []
    },
    {
      "cell_type": "code",
      "source": [
        "v1 = Vector(1, 2)\n",
        "v2 = Vector(3, 4)\n",
        "\n",
        "result = v1 + v2\n",
        "print(result)"
      ],
      "metadata": {
        "colab": {
          "base_uri": "https://localhost:8080/"
        },
        "id": "3xO4jAa9wTbE",
        "outputId": "379d7938-f339-4bc7-adef-71738bf66c9d"
      },
      "execution_count": null,
      "outputs": [
        {
          "output_type": "stream",
          "name": "stdout",
          "text": [
            "(4, 6)\n"
          ]
        }
      ]
    },
    {
      "cell_type": "markdown",
      "source": [
        "**Question 11:**  Create a class Person with attributes name and age. Add a method greet() that prints \"Hello, my name is\n",
        "{name} and I am {age} years old."
      ],
      "metadata": {
        "id": "NHsRsCH8wp7-"
      }
    },
    {
      "cell_type": "code",
      "source": [
        "class Person:\n",
        "  def __init__(self, name, age):\n",
        "    self.name = name\n",
        "    self.age = age\n",
        "\n",
        "  def greet(self):\n",
        "    return f\"Hello, My name is {self.name} and I am {self.age}\""
      ],
      "metadata": {
        "id": "3zoCCRbJwiCn"
      },
      "execution_count": null,
      "outputs": []
    },
    {
      "cell_type": "code",
      "source": [
        "X = Person(\"Emma\", 24)\n",
        "Y = Person(\"Manvik\", 20)\n",
        "Z = Person(\"Maddy\", 25)"
      ],
      "metadata": {
        "id": "-fVuw91RxNNN"
      },
      "execution_count": null,
      "outputs": []
    },
    {
      "cell_type": "code",
      "source": [
        "X.greet()"
      ],
      "metadata": {
        "colab": {
          "base_uri": "https://localhost:8080/",
          "height": 35
        },
        "id": "X6XMUpePxxdJ",
        "outputId": "94b1617c-c170-4d2a-ed83-ba95187488db"
      },
      "execution_count": null,
      "outputs": [
        {
          "output_type": "execute_result",
          "data": {
            "text/plain": [
              "'Hello, My name is Emma and I am 24'"
            ],
            "application/vnd.google.colaboratory.intrinsic+json": {
              "type": "string"
            }
          },
          "metadata": {},
          "execution_count": 89
        }
      ]
    },
    {
      "cell_type": "code",
      "source": [
        "Y.greet()"
      ],
      "metadata": {
        "colab": {
          "base_uri": "https://localhost:8080/",
          "height": 35
        },
        "id": "MvPlQuBjxzEq",
        "outputId": "f2d49098-1882-49f8-a169-2a0fbb6afe89"
      },
      "execution_count": null,
      "outputs": [
        {
          "output_type": "execute_result",
          "data": {
            "text/plain": [
              "'Hello, My name is Manvik and I am 20'"
            ],
            "application/vnd.google.colaboratory.intrinsic+json": {
              "type": "string"
            }
          },
          "metadata": {},
          "execution_count": 90
        }
      ]
    },
    {
      "cell_type": "code",
      "source": [
        "Z.greet()"
      ],
      "metadata": {
        "colab": {
          "base_uri": "https://localhost:8080/",
          "height": 35
        },
        "id": "YEIVmRg-x1Td",
        "outputId": "7f3239c6-3911-498f-a97f-02faef944a3c"
      },
      "execution_count": null,
      "outputs": [
        {
          "output_type": "execute_result",
          "data": {
            "text/plain": [
              "'Hello, My name is Maddy and I am 25'"
            ],
            "application/vnd.google.colaboratory.intrinsic+json": {
              "type": "string"
            }
          },
          "metadata": {},
          "execution_count": 91
        }
      ]
    },
    {
      "cell_type": "markdown",
      "source": [
        "**Question 12:**  Implement a class Student with attributes name and grades. Create a method average_grade() to compute\n",
        "the average of the grades"
      ],
      "metadata": {
        "id": "eI8DCMQXx3rc"
      }
    },
    {
      "cell_type": "code",
      "source": [
        "class Student:\n",
        "  def __init__(self, name: str , subjects, grades):\n",
        "    self.name = name\n",
        "    self.subjects = subjects\n",
        "    self.grades = grades\n",
        "\n",
        "  def average_grade(self):\n",
        "    a = 0\n",
        "    for i in self.grades:\n",
        "      a+=i\n",
        "    return a/len(self.grades)\n",
        "\n"
      ],
      "metadata": {
        "id": "gcOL0qdUx27H"
      },
      "execution_count": null,
      "outputs": []
    },
    {
      "cell_type": "code",
      "source": [
        "Student_1 = Student(\"Manvik\", (\"Accountancy\", \"Maths\", \"Economics\"), (95, 90, 85))\n",
        "Student_2 = Student(\"Samriddhi\", (\"Maths\", \"Physics\", \"Chemistry\"), (84, 96, 85))\n",
        "Student_3 = Student(\"Maddy\", (\"IT\", \"Data Analytics\", \"Computer Application in Business\"), (87, 91, 90))"
      ],
      "metadata": {
        "id": "I__o8pxNy2z_"
      },
      "execution_count": null,
      "outputs": []
    },
    {
      "cell_type": "code",
      "source": [
        "Student_1.average_grade()"
      ],
      "metadata": {
        "colab": {
          "base_uri": "https://localhost:8080/"
        },
        "id": "VoglMSnC09En",
        "outputId": "c26cb103-3866-4596-a3aa-27c6369ba509"
      },
      "execution_count": null,
      "outputs": [
        {
          "output_type": "execute_result",
          "data": {
            "text/plain": [
              "90.0"
            ]
          },
          "metadata": {},
          "execution_count": 137
        }
      ]
    },
    {
      "cell_type": "code",
      "source": [
        "Student_2.average_grade()"
      ],
      "metadata": {
        "colab": {
          "base_uri": "https://localhost:8080/"
        },
        "id": "_rbbGmmJ2gBx",
        "outputId": "9ee49496-878b-4c65-e692-28bf3d746209"
      },
      "execution_count": null,
      "outputs": [
        {
          "output_type": "execute_result",
          "data": {
            "text/plain": [
              "88.33333333333333"
            ]
          },
          "metadata": {},
          "execution_count": 138
        }
      ]
    },
    {
      "cell_type": "code",
      "source": [
        "Student_3.average_grade()"
      ],
      "metadata": {
        "colab": {
          "base_uri": "https://localhost:8080/"
        },
        "id": "b_1B99Pz5xlY",
        "outputId": "5e9aa4ce-a2f5-4993-adfc-b44aaaccecbc"
      },
      "execution_count": null,
      "outputs": [
        {
          "output_type": "execute_result",
          "data": {
            "text/plain": [
              "89.33333333333333"
            ]
          },
          "metadata": {},
          "execution_count": 139
        }
      ]
    },
    {
      "cell_type": "markdown",
      "source": [
        "**Question 13:** . Create a class Rectangle with methods set_dimensions() to set the dimensions and area() to calculate the\n",
        "area."
      ],
      "metadata": {
        "id": "ZnOiS8nl6SGX"
      }
    },
    {
      "cell_type": "code",
      "source": [
        "class Rectangle:\n",
        "  def __init__(self, length = 0, breadth = 0):\n",
        "    self.length = length\n",
        "    self.breadth = breadth\n",
        "\n",
        "  def set_dimensions(self):\n",
        "    self.length = int(input(\"Enter the length of the rectangle: \"))\n",
        "    self.breadth = int(input(\"Enter the breadth of the rectangle: \"))\n",
        "\n",
        "  def area(self):\n",
        "    return self.length * self.breadth\n",
        "\n",
        "  def __str__(self):\n",
        "    return f\"The length of the rectangle is {self.length} and the breadth is {self.breadth} and the area is {self.area()}\""
      ],
      "metadata": {
        "id": "pYOYtJRp5zyz"
      },
      "execution_count": null,
      "outputs": []
    },
    {
      "cell_type": "code",
      "source": [
        "Rect_1 = Rectangle()"
      ],
      "metadata": {
        "id": "8g7Hb0ar7M_D"
      },
      "execution_count": null,
      "outputs": []
    },
    {
      "cell_type": "code",
      "source": [
        "Rect_1.set_dimensions()"
      ],
      "metadata": {
        "colab": {
          "base_uri": "https://localhost:8080/"
        },
        "id": "Yv5HcZp87QPq",
        "outputId": "23504f54-07d6-4761-c5df-c2dd40811b76"
      },
      "execution_count": null,
      "outputs": [
        {
          "name": "stdout",
          "output_type": "stream",
          "text": [
            "Enter the length of the rectangle: 6\n",
            "Enter the breadth of the rectangle: 5\n"
          ]
        }
      ]
    },
    {
      "cell_type": "code",
      "source": [
        "Rect_1.area()"
      ],
      "metadata": {
        "colab": {
          "base_uri": "https://localhost:8080/"
        },
        "id": "0S6hsHRE7Y4l",
        "outputId": "83fd0601-8148-45fc-cb32-6b9bffd7dab1"
      },
      "execution_count": null,
      "outputs": [
        {
          "output_type": "execute_result",
          "data": {
            "text/plain": [
              "30"
            ]
          },
          "metadata": {},
          "execution_count": 164
        }
      ]
    },
    {
      "cell_type": "code",
      "source": [
        "print(Rect_1)"
      ],
      "metadata": {
        "colab": {
          "base_uri": "https://localhost:8080/"
        },
        "id": "sFPaJMyZ7fLY",
        "outputId": "aa177cee-6770-47f0-a481-062bac7965b1"
      },
      "execution_count": null,
      "outputs": [
        {
          "output_type": "stream",
          "name": "stdout",
          "text": [
            "The length of the rectangle is 6 and the breadth is 5 and the area is 30\n"
          ]
        }
      ]
    },
    {
      "cell_type": "markdown",
      "source": [
        "**Question 14:**  Create a class Employee with a method calculate_salary() that computes the salary based on hours worked\n",
        "and hourly rate. Create a derived class Manager that adds a bonus to the salary."
      ],
      "metadata": {
        "id": "_l-ILbga8A8v"
      }
    },
    {
      "cell_type": "code",
      "source": [
        "class Employee:\n",
        "  hourly_rate = 125\n",
        "  def __init__(self,emp_name, working_hrs):\n",
        "    self.emp_name = emp_name\n",
        "    self.working_hrs = working_hrs\n",
        "\n",
        "  def calculate_salary(self):\n",
        "    salary = self.hourly_rate * self.working_hrs\n",
        "    return salary\n",
        "\n",
        "class Manager(Employee):\n",
        "  def __init__(self, emp_name, working_hrs, extra_hrs_rate):\n",
        "    super().__init__(emp_name, working_hrs)\n",
        "    self.extra_hrs_rate = extra_hrs_rate\n",
        "\n",
        "  def calculate_bonus(self):\n",
        "   if self.working_hrs > 230:\n",
        "    return (self.working_hrs - 230) * 50\n",
        "   else:\n",
        "    return super().calculate_salary()"
      ],
      "metadata": {
        "id": "_YQIMcVN7m_u"
      },
      "execution_count": 17,
      "outputs": []
    },
    {
      "cell_type": "code",
      "source": [
        "A = Employee(\"Manvik\", 235)"
      ],
      "metadata": {
        "id": "VA9D4GPP-jjE"
      },
      "execution_count": 18,
      "outputs": []
    },
    {
      "cell_type": "code",
      "source": [
        "A.calculate_salary()"
      ],
      "metadata": {
        "colab": {
          "base_uri": "https://localhost:8080/"
        },
        "id": "yNMpOIzMBD-g",
        "outputId": "69350fbd-bb04-4f83-cefb-c2e5d8f28381"
      },
      "execution_count": 19,
      "outputs": [
        {
          "output_type": "execute_result",
          "data": {
            "text/plain": [
              "29375"
            ]
          },
          "metadata": {},
          "execution_count": 19
        }
      ]
    },
    {
      "cell_type": "code",
      "source": [
        "A = Manager(\"Manvik\", 235, 5)"
      ],
      "metadata": {
        "id": "1yQ2jwwh_Vmf"
      },
      "execution_count": 20,
      "outputs": []
    },
    {
      "cell_type": "code",
      "source": [
        "A.calculate_bonus()"
      ],
      "metadata": {
        "colab": {
          "base_uri": "https://localhost:8080/"
        },
        "id": "vLemh893_W_R",
        "outputId": "86b98668-17b1-4442-e228-96b9093692a0"
      },
      "execution_count": 21,
      "outputs": [
        {
          "output_type": "execute_result",
          "data": {
            "text/plain": [
              "250"
            ]
          },
          "metadata": {},
          "execution_count": 21
        }
      ]
    },
    {
      "cell_type": "markdown",
      "source": [
        "**Question 15:**  Create a class Product with attributes name, price, and quantity. Implement a method total_price() that\n",
        "calculates the total price of the product."
      ],
      "metadata": {
        "id": "wtaxRyaPpsyw"
      }
    },
    {
      "cell_type": "code",
      "source": [
        "class Product:\n",
        "  def __init__(self, name, price, quantity):\n",
        "    self.name = name\n",
        "    self.price = price\n",
        "    self.quantity = quantity\n",
        "\n",
        "  def total_price(self):\n",
        "    return f\"{self.name} has a total price of {self.price * self.quantity}\""
      ],
      "metadata": {
        "id": "D1b-HafNAK9d"
      },
      "execution_count": 22,
      "outputs": []
    },
    {
      "cell_type": "code",
      "source": [
        "D = Product(\"Milk\", 50, 2)"
      ],
      "metadata": {
        "id": "_H-mSUyAqUVF"
      },
      "execution_count": 23,
      "outputs": []
    },
    {
      "cell_type": "code",
      "source": [
        "D.total_price()"
      ],
      "metadata": {
        "colab": {
          "base_uri": "https://localhost:8080/",
          "height": 35
        },
        "id": "j-MRGO7PqZvo",
        "outputId": "f6c97d03-090a-462d-fc96-0e230390a95e"
      },
      "execution_count": 24,
      "outputs": [
        {
          "output_type": "execute_result",
          "data": {
            "text/plain": [
              "'Milk has a total price of 100'"
            ],
            "application/vnd.google.colaboratory.intrinsic+json": {
              "type": "string"
            }
          },
          "metadata": {},
          "execution_count": 24
        }
      ]
    },
    {
      "cell_type": "markdown",
      "source": [
        "**Question 16:** Create a class Animal with an abstract method sound(). Create two derived classes Cow and Sheep that\n",
        "implement the sound() method."
      ],
      "metadata": {
        "id": "bwS-9qX3qc-1"
      }
    },
    {
      "cell_type": "code",
      "source": [
        "import abc\n",
        "class Animal:\n",
        "  @abc.abstractmethod\n",
        "  def sound(self):\n",
        "    return f\"Animal makes a sound\"\n",
        "\n",
        "class Cow(Animal):\n",
        "  def sound(self):\n",
        "    return \"Moo\"\n",
        "\n",
        "class Sheep(Animal):\n",
        "  def sound(self):\n",
        "    return \"Baa\"\n",
        "\n"
      ],
      "metadata": {
        "id": "Z6pqWNhsqbmB"
      },
      "execution_count": 31,
      "outputs": []
    },
    {
      "cell_type": "code",
      "source": [
        "G = Animal()"
      ],
      "metadata": {
        "id": "X8IKBSnXq8zR"
      },
      "execution_count": 32,
      "outputs": []
    },
    {
      "cell_type": "code",
      "source": [
        "G.sound()"
      ],
      "metadata": {
        "colab": {
          "base_uri": "https://localhost:8080/",
          "height": 35
        },
        "id": "P-bFDCEMrBCE",
        "outputId": "5feb7bc3-f9bf-40af-d87c-e50384c98c70"
      },
      "execution_count": 33,
      "outputs": [
        {
          "output_type": "execute_result",
          "data": {
            "text/plain": [
              "'Animal makes a sound'"
            ],
            "application/vnd.google.colaboratory.intrinsic+json": {
              "type": "string"
            }
          },
          "metadata": {},
          "execution_count": 33
        }
      ]
    },
    {
      "cell_type": "code",
      "source": [
        "H = Cow()\n",
        "H.sound()"
      ],
      "metadata": {
        "colab": {
          "base_uri": "https://localhost:8080/",
          "height": 35
        },
        "id": "uF2I2yqVrF36",
        "outputId": "2fac3102-fd1e-42c4-83d2-d49cc52743fc"
      },
      "execution_count": 34,
      "outputs": [
        {
          "output_type": "execute_result",
          "data": {
            "text/plain": [
              "'Moo'"
            ],
            "application/vnd.google.colaboratory.intrinsic+json": {
              "type": "string"
            }
          },
          "metadata": {},
          "execution_count": 34
        }
      ]
    },
    {
      "cell_type": "code",
      "source": [
        "I = Sheep()\n",
        "I.sound()"
      ],
      "metadata": {
        "colab": {
          "base_uri": "https://localhost:8080/",
          "height": 35
        },
        "id": "wd8K-5QMrK53",
        "outputId": "2fb6c558-7cd2-4b19-d0b6-74c04a1e27f2"
      },
      "execution_count": 35,
      "outputs": [
        {
          "output_type": "execute_result",
          "data": {
            "text/plain": [
              "'Baa'"
            ],
            "application/vnd.google.colaboratory.intrinsic+json": {
              "type": "string"
            }
          },
          "metadata": {},
          "execution_count": 35
        }
      ]
    },
    {
      "cell_type": "markdown",
      "source": [
        "**Question 17:** . Create a class Book with attributes title, author, and year_published. Add a method get_book_info() that\n",
        "returns a formatted string with the book's details"
      ],
      "metadata": {
        "id": "tp_SmZahrPbM"
      }
    },
    {
      "cell_type": "code",
      "source": [
        "class Book:\n",
        "  def __init__(self, title, author, year_published):\n",
        "    self.title = title\n",
        "    self.author = author\n",
        "    self.year_published = year_published\n",
        "\n",
        "  def get_info(self):\n",
        "    return f\"{self.title} whose author is {self.author} was published in {self.year_published}\""
      ],
      "metadata": {
        "id": "5cAWbyyMrOer"
      },
      "execution_count": 39,
      "outputs": []
    },
    {
      "cell_type": "code",
      "source": [
        "A = Book(\"The Great Gatsby\", \"F Scott Fitzgerald\", 1925)"
      ],
      "metadata": {
        "id": "_w6NSTRfrwt8"
      },
      "execution_count": 40,
      "outputs": []
    },
    {
      "cell_type": "code",
      "source": [
        "A.get_info()"
      ],
      "metadata": {
        "colab": {
          "base_uri": "https://localhost:8080/",
          "height": 35
        },
        "id": "1s5Re8P7sUy3",
        "outputId": "3e34e07d-20a2-4382-d879-85e5ba8c2c3b"
      },
      "execution_count": 41,
      "outputs": [
        {
          "output_type": "execute_result",
          "data": {
            "text/plain": [
              "'The Great Gatsby whose author is F Scott Fitzgerald was published in 1925'"
            ],
            "application/vnd.google.colaboratory.intrinsic+json": {
              "type": "string"
            }
          },
          "metadata": {},
          "execution_count": 41
        }
      ]
    },
    {
      "cell_type": "markdown",
      "source": [
        "**Question 18:**  Create a class House with attributes address and price. Create a derived class Mansion that adds an\n",
        "attribute number_of_rooms"
      ],
      "metadata": {
        "id": "iSVaueBvs0K7"
      }
    },
    {
      "cell_type": "code",
      "source": [
        "class House:\n",
        "  def __init__(self, address, price):\n",
        "    self.address = address\n",
        "    self.price = price\n",
        "\n",
        "class Mansion(House):\n",
        "  def __init__(self, address, price, number_of_rooms):\n",
        "    super().__init__(address, price)\n",
        "    self.number_of_rooms = number_of_rooms"
      ],
      "metadata": {
        "id": "4A0WypxHtgRG"
      },
      "execution_count": 44,
      "outputs": []
    },
    {
      "cell_type": "code",
      "source": [
        "A = Mansion(\"New Delhi\", \"10cr\", 8)"
      ],
      "metadata": {
        "id": "4Iih8zIKtq0S"
      },
      "execution_count": 47,
      "outputs": []
    },
    {
      "cell_type": "code",
      "source": [
        "A.address"
      ],
      "metadata": {
        "colab": {
          "base_uri": "https://localhost:8080/",
          "height": 35
        },
        "id": "AUEOfZwpt2uj",
        "outputId": "5d8c1a0e-07ab-4fd3-caf0-af3af0884186"
      },
      "execution_count": 48,
      "outputs": [
        {
          "output_type": "execute_result",
          "data": {
            "text/plain": [
              "'New Delhi'"
            ],
            "application/vnd.google.colaboratory.intrinsic+json": {
              "type": "string"
            }
          },
          "metadata": {},
          "execution_count": 48
        }
      ]
    },
    {
      "cell_type": "code",
      "source": [
        "A.number_of_rooms"
      ],
      "metadata": {
        "colab": {
          "base_uri": "https://localhost:8080/"
        },
        "id": "qExKI5N_t-4S",
        "outputId": "886647ab-550c-47c1-ac58-df6f94611644"
      },
      "execution_count": 49,
      "outputs": [
        {
          "output_type": "execute_result",
          "data": {
            "text/plain": [
              "8"
            ]
          },
          "metadata": {},
          "execution_count": 49
        }
      ]
    },
    {
      "cell_type": "code",
      "source": [
        "A.price"
      ],
      "metadata": {
        "colab": {
          "base_uri": "https://localhost:8080/",
          "height": 35
        },
        "id": "rlxroyWiuBXR",
        "outputId": "1ec9f467-c49a-4eec-b75e-858daf4e3576"
      },
      "execution_count": 60,
      "outputs": [
        {
          "output_type": "execute_result",
          "data": {
            "text/plain": [
              "'10cr'"
            ],
            "application/vnd.google.colaboratory.intrinsic+json": {
              "type": "string"
            }
          },
          "metadata": {},
          "execution_count": 60
        }
      ]
    },
    {
      "cell_type": "code",
      "source": [],
      "metadata": {
        "id": "tKsVJZI8v3Dd"
      },
      "execution_count": null,
      "outputs": []
    }
  ]
}